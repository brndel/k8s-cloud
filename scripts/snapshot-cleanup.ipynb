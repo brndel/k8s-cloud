{
 "cells": [
  {
   "cell_type": "markdown",
   "id": "808a0244",
   "metadata": {},
   "source": [
    "# Clean up orphaned snapshots"
   ]
  },
  {
   "cell_type": "code",
   "execution_count": null,
   "id": "5266a7a4",
   "metadata": {},
   "outputs": [],
   "source": [
    "from datetime import datetime, timedelta, timezone\n",
    "from typing import Any\n",
    "\n",
    "from tqdm.notebook import tqdm\n",
    "import kubernetes as k8s"
   ]
  },
  {
   "cell_type": "code",
   "execution_count": 27,
   "id": "3b00da5c",
   "metadata": {},
   "outputs": [],
   "source": [
    "k8s.config.load_kube_config(\"../kubeconfig.yaml\", context=\"queerkastle-de\")"
   ]
  },
  {
   "cell_type": "code",
   "execution_count": 28,
   "id": "3ccaf03b",
   "metadata": {},
   "outputs": [
    {
     "name": "stdout",
     "output_type": "stream",
     "text": [
      "queerkastle-de-s0\n"
     ]
    }
   ],
   "source": [
    "# Get all nodes\n",
    "nodes = k8s.client.CoreV1Api().list_node()\n",
    "# Print node names\n",
    "for node in nodes.items:\n",
    "    print(node.metadata.name)"
   ]
  },
  {
   "cell_type": "code",
   "execution_count": 29,
   "id": "b7c9955b",
   "metadata": {},
   "outputs": [
    {
     "name": "stdout",
     "output_type": "stream",
     "text": [
      "0 out of 285\n"
     ]
    }
   ],
   "source": [
    "# Get all VolumeSnapshots in all namespaces\n",
    "snapshot_api = k8s.client.CustomObjectsApi()\n",
    "volumesnapshots: dict[str, Any] = snapshot_api.list_cluster_custom_object(\n",
    "  group=\"snapshot.storage.k8s.io\",\n",
    "  version=\"v1\",\n",
    "  plural=\"volumesnapshots\"\n",
    ")\n",
    "\n",
    "all_snapshots: list[dict[str, Any]] = volumesnapshots.get(\"items\", [])\n",
    "\n",
    "now = datetime.now(timezone.utc)\n",
    "old_unready_snapshots = []\n",
    "\n",
    "for snap in all_snapshots:\n",
    "  status: dict[str, Any] = snap.get(\"status\", {})\n",
    "  ready: dict[str, Any] = status.get(\"readyToUse\", True)\n",
    "  \n",
    "  meta: dict[str, Any] = snap.get(\"metadata\", {})\n",
    "  creation: str = meta[\"creationTimestamp\"]\n",
    "  \n",
    "  if not ready:\n",
    "    created_at = datetime.fromisoformat(creation.replace(\"Z\", \"+00:00\"))\n",
    "    if now - created_at > timedelta(days=1):\n",
    "      old_unready_snapshots.append(snap)\n",
    "\n",
    "print(f\"{len(old_unready_snapshots)} out of {len(all_snapshots)}\")"
   ]
  },
  {
   "cell_type": "code",
   "execution_count": 30,
   "id": "7cc6190d",
   "metadata": {},
   "outputs": [
    {
     "data": {
      "application/vnd.jupyter.widget-view+json": {
       "model_id": "94e56bc53f644eb88e9d8c8d9b9659ca",
       "version_major": 2,
       "version_minor": 0
      },
      "text/plain": [
       "Deleting old unready snapshots: 0it [00:00, ?it/s]"
      ]
     },
     "metadata": {},
     "output_type": "display_data"
    }
   ],
   "source": [
    "for snap in tqdm(old_unready_snapshots, desc=\"Deleting old unready snapshots\"):\n",
    "    name = snap[\"metadata\"][\"name\"]\n",
    "    namespace = snap[\"metadata\"][\"namespace\"]\n",
    "    # Remove finalizers if present\n",
    "    if \"finalizers\" in snap[\"metadata\"]:\n",
    "        snapshot_api.patch_namespaced_custom_object(\n",
    "            group=\"snapshot.storage.k8s.io\",\n",
    "            version=\"v1\",\n",
    "            namespace=namespace,\n",
    "            plural=\"volumesnapshots\",\n",
    "            name=name,\n",
    "            body={\"metadata\": {\"finalizers\": []}},\n",
    "        )\n",
    "    snapshot_api.delete_namespaced_custom_object(\n",
    "        group=\"snapshot.storage.k8s.io\",\n",
    "        version=\"v1\",\n",
    "        namespace=namespace,\n",
    "        plural=\"volumesnapshots\",\n",
    "        name=name,\n",
    "        body={},\n",
    "        grace_period_seconds=0,\n",
    "    )"
   ]
  },
  {
   "cell_type": "code",
   "execution_count": 32,
   "id": "3f22212f",
   "metadata": {},
   "outputs": [
    {
     "name": "stdout",
     "output_type": "stream",
     "text": [
      "Found 0 orphaned VolumeSnapshotContents.\n"
     ]
    },
    {
     "data": {
      "application/vnd.jupyter.widget-view+json": {
       "model_id": "e2b1837863ba4af4b26e09add79af4b3",
       "version_major": 2,
       "version_minor": 0
      },
      "text/plain": [
       "Deleting orphaned contents: 0it [00:00, ?it/s]"
      ]
     },
     "metadata": {},
     "output_type": "display_data"
    }
   ],
   "source": [
    "# Get all VolumeSnapshotContents\n",
    "volumesnapshotcontents = snapshot_api.list_cluster_custom_object(\n",
    "    group=\"snapshot.storage.k8s.io\", version=\"v1\", plural=\"volumesnapshotcontents\"\n",
    ")\n",
    "all_contents = volumesnapshotcontents.get(\"items\", [])\n",
    "\n",
    "# Collect all referenced content names from existing snapshots\n",
    "referenced_content_names = set()\n",
    "for snap in volumesnapshots.get(\"items\", []):\n",
    "    status = snap.get(\"status\", {})\n",
    "    content_name = status.get(\"boundVolumeSnapshotContentName\")\n",
    "    if content_name:\n",
    "        referenced_content_names.add(content_name)\n",
    "\n",
    "# Find orphaned contents (not referenced by any snapshot)\n",
    "orphaned_contents = [\n",
    "    content\n",
    "    for content in all_contents\n",
    "    if content[\"metadata\"][\"name\"] not in referenced_content_names\n",
    "]\n",
    "\n",
    "print(f\"Found {len(orphaned_contents)} orphaned VolumeSnapshotContents.\")\n",
    "\n",
    "# Delete orphaned contents\n",
    "for content in tqdm(orphaned_contents, desc=\"Deleting orphaned contents\"):\n",
    "    name = content[\"metadata\"][\"name\"]\n",
    "    # Remove finalizers if present\n",
    "    if \"finalizers\" in content[\"metadata\"]:\n",
    "        snapshot_api.patch_cluster_custom_object(\n",
    "            group=\"snapshot.storage.k8s.io\",\n",
    "            version=\"v1\",\n",
    "            plural=\"volumesnapshotcontents\",\n",
    "            name=name,\n",
    "            body={\"metadata\": {\"finalizers\": []}},\n",
    "        )\n",
    "    try:\n",
    "        snapshot_api.delete_cluster_custom_object(\n",
    "            group=\"snapshot.storage.k8s.io\",\n",
    "            version=\"v1\",\n",
    "            plural=\"volumesnapshotcontents\",\n",
    "            name=name,\n",
    "            body={},\n",
    "            grace_period_seconds=0,\n",
    "        )\n",
    "    except k8s.client.ApiException:\n",
    "        pass"
   ]
  }
 ],
 "metadata": {
  "kernelspec": {
   "display_name": "k8s-cloud-Af-Re36H-py3.12",
   "language": "python",
   "name": "python3"
  },
  "language_info": {
   "codemirror_mode": {
    "name": "ipython",
    "version": 3
   },
   "file_extension": ".py",
   "mimetype": "text/x-python",
   "name": "python",
   "nbconvert_exporter": "python",
   "pygments_lexer": "ipython3",
   "version": "3.12.7"
  }
 },
 "nbformat": 4,
 "nbformat_minor": 5
}
